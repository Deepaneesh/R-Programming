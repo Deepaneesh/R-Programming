{
 "cells": [
  {
   "cell_type": "code",
   "execution_count": 1,
   "id": "15bd2ef5",
   "metadata": {},
   "outputs": [
    {
     "name": "stdout",
     "output_type": "stream",
     "text": [
      "  Sepal.Length Sepal.Width Petal.Length Petal.Width Species\n",
      "1          5.1         3.5          1.4         0.2  setosa\n",
      "2          4.9         3.0          1.4         0.2  setosa\n",
      "3          4.7         3.2          1.3         0.2  setosa\n",
      "4          4.6         3.1          1.5         0.2  setosa\n",
      "5          5.0         3.6          1.4         0.2  setosa\n",
      "6          5.4         3.9          1.7         0.4  setosa\n"
     ]
    }
   ],
   "source": [
    "print(head(iris))"
   ]
  },
  {
   "cell_type": "code",
   "execution_count": 7,
   "id": "28c4c6ac",
   "metadata": {},
   "outputs": [],
   "source": [
    "data = read.csv(\"C:/Users/deepa/OneDrive/Desktop/neuromuscular_synthetic_data.csv\")\n"
   ]
  },
  {
   "cell_type": "code",
   "execution_count": 8,
   "id": "a3a2e545",
   "metadata": {},
   "outputs": [
    {
     "data": {
      "text/plain": [
       "  Patient_ID Age Gender      BMI                Disorder Duration_Years Severity_Score        Treatment\n",
       "1          1  37 Female 14.64048                     SMA              1              7 Physical Therapy\n",
       "2          2  46 Female 12.78499 Guillain-Barré Syndrome              1              2    Riluzole + PT\n",
       "3          3  51 Female 17.66446       Myasthenia Gravis              3              8 Physical Therapy\n",
       "4          4  20   Male 20.30889                     ALS              1              6    Riluzole + PT\n",
       "5          5  39 Female 18.31451         Channelopathies              5              8 Physical Therapy\n",
       "6          6  20 Female 17.85237 Guillain-Barré Syndrome              2              3 Physical Therapy\n",
       "  Adherence_to_Treatment Treatment_Start_Year Dosage Number_of_Treatments Muscle_Strength  NCV\n",
       "1                     No                 2021   High                    1            40.6 65.5\n",
       "2                    Yes                 2020 Medium                    2            37.2 35.9\n",
       "3                    Yes                 2018    Low                    1            59.0 44.0\n",
       "4                     No                 2012   High                    2            22.3 33.5\n",
       "5                     No                 2023 Medium                    2            49.6 38.2\n",
       "6                     No                 2017 Medium                    1            92.0 28.0\n",
       "  Respiratory_Volume CK_Levels Blood_Pressure_Systolic Blood_Pressure_Diastolic Disease_Activity_Score\n",
       "1                5.1     166.8                     112                       75                      4\n",
       "2                4.3     230.5                     125                       81                      2\n",
       "3                3.7     283.0                     136                       95                      6\n",
       "4                3.2     244.6                     156                       70                      3\n",
       "5                4.8     205.4                      95                       69                      1\n",
       "6               10.0     378.0                     121                       87                      9\n",
       "  Genetic_Mutation_Score Time_to_Disease_Progression Time_to_Death Rate_of_Progression Early_Stage Cured\n",
       "1                      2                           1            NA                1.15          No   Yes\n",
       "2                      1                           5            NA                2.43         Yes    No\n",
       "3                      1                           7             1                1.14          No   Yes\n",
       "4                      3                           2            NA                1.83          No   Yes\n",
       "5                      3                           3             0                2.70          No    No\n",
       "6                      7                           7            NA                3.83         Yes   Yes\n",
       "  Died_with_Disease Died_while_Treatment Muscle_Strength_Improvement Functional_Mobility_Improvement\n",
       "1                No                   No                        None                     Significant\n",
       "2                No                   No                    Moderate                            Mild\n",
       "3                No                   No                        Mild                            Mild\n",
       "4                No                   No                        Mild                        Moderate\n",
       "5               Yes                   No                        Mild                            Mild\n",
       "6                No                   No                        None                        Moderate\n",
       "  Respiratory_Function_Improvement Quality_of_Life_Improvement              Major_Issue_Type\n",
       "1                             None                 Significant                       Muscles\n",
       "2                             None                    Moderate Joint (Nerve and Muscle Area)\n",
       "3                             None                        Mild                        Nerves\n",
       "4                         Moderate                    Moderate                       Muscles\n",
       "5                         Moderate                        None                        Nerves\n",
       "6                      Significant                        None Joint (Nerve and Muscle Area)\n",
       "  Severity_Interaction Treatment_Interaction Lifestyle_Factor\n",
       "1                    7                 FALSE        Sedentary\n",
       "2                    2                 FALSE         Moderate\n",
       "3                    8                 FALSE         Moderate\n",
       "4                    6                  TRUE        Sedentary\n",
       "5                    8                 FALSE           Active\n",
       "6                    6                 FALSE         Moderate"
      ]
     },
     "execution_count": null,
     "metadata": {},
     "output_type": "execute_result"
    }
   ],
   "source": [
    "head(data)"
   ]
  }
 ],
 "metadata": {
  "language_info": {
   "name": "r"
  }
 },
 "nbformat": 4,
 "nbformat_minor": 5
}
